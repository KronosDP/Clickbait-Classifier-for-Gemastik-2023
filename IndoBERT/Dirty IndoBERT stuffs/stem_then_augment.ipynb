{
 "cells": [
  {
   "cell_type": "code",
   "execution_count": 1,
   "metadata": {},
   "outputs": [],
   "source": [
    "import pandas as pd"
   ]
  },
  {
   "cell_type": "code",
   "execution_count": 2,
   "metadata": {},
   "outputs": [
    {
     "data": {
      "text/html": [
       "<div>\n",
       "<style scoped>\n",
       "    .dataframe tbody tr th:only-of-type {\n",
       "        vertical-align: middle;\n",
       "    }\n",
       "\n",
       "    .dataframe tbody tr th {\n",
       "        vertical-align: top;\n",
       "    }\n",
       "\n",
       "    .dataframe thead th {\n",
       "        text-align: right;\n",
       "    }\n",
       "</style>\n",
       "<table border=\"1\" class=\"dataframe\">\n",
       "  <thead>\n",
       "    <tr style=\"text-align: right;\">\n",
       "      <th></th>\n",
       "      <th>Unnamed: 0.1</th>\n",
       "      <th>Unnamed: 0</th>\n",
       "      <th>title</th>\n",
       "      <th>category</th>\n",
       "      <th>has_exclamation</th>\n",
       "      <th>has_question</th>\n",
       "      <th>has_number</th>\n",
       "      <th>num_count</th>\n",
       "      <th>mark_count</th>\n",
       "      <th>original_title</th>\n",
       "      <th>label_score</th>\n",
       "    </tr>\n",
       "  </thead>\n",
       "  <tbody>\n",
       "    <tr>\n",
       "      <th>0</th>\n",
       "      <td>101</td>\n",
       "      <td>101</td>\n",
       "      <td>guru tinggi muhammadiyah indonesia tolak revis...</td>\n",
       "      <td>Berita_indonesia</td>\n",
       "      <td>0</td>\n",
       "      <td>0</td>\n",
       "      <td>1</td>\n",
       "      <td>2</td>\n",
       "      <td>0</td>\n",
       "      <td>40 Perguruan Tinggi Muhammadiyah se-Indonesia ...</td>\n",
       "      <td>0</td>\n",
       "    </tr>\n",
       "    <tr>\n",
       "      <th>1</th>\n",
       "      <td>8448</td>\n",
       "      <td>8448</td>\n",
       "      <td>tiga bulan nikah onadio ronaldo karunia anak p...</td>\n",
       "      <td>Hiburan_&amp;_Selebriti</td>\n",
       "      <td>0</td>\n",
       "      <td>0</td>\n",
       "      <td>0</td>\n",
       "      <td>0</td>\n",
       "      <td>1</td>\n",
       "      <td>Tiga Bulan Nikah, Onadio Ronaldo Dikaruniai An...</td>\n",
       "      <td>1</td>\n",
       "    </tr>\n",
       "    <tr>\n",
       "      <th>2</th>\n",
       "      <td>7372</td>\n",
       "      <td>7372</td>\n",
       "      <td>sosok sukanto tanoto yang bakal buat ada lahan...</td>\n",
       "      <td>Berita_indonesia</td>\n",
       "      <td>0</td>\n",
       "      <td>0</td>\n",
       "      <td>0</td>\n",
       "      <td>0</td>\n",
       "      <td>1</td>\n",
       "      <td>Sosok Sukanto Tanoto yang Bakal Buat Pengadaan...</td>\n",
       "      <td>1</td>\n",
       "    </tr>\n",
       "    <tr>\n",
       "      <th>3</th>\n",
       "      <td>5720</td>\n",
       "      <td>5720</td>\n",
       "      <td>anggota dprd provinsi sumut lantik</td>\n",
       "      <td>Regional_&amp;_Daerah</td>\n",
       "      <td>0</td>\n",
       "      <td>0</td>\n",
       "      <td>1</td>\n",
       "      <td>3</td>\n",
       "      <td>0</td>\n",
       "      <td>100 Anggota DPRD Provinsi Sumut Dilantik</td>\n",
       "      <td>0</td>\n",
       "    </tr>\n",
       "    <tr>\n",
       "      <th>4</th>\n",
       "      <td>6806</td>\n",
       "      <td>6806</td>\n",
       "      <td>polisi di meksiko temu mayat yang mutilasi</td>\n",
       "      <td>Berita_indonesia</td>\n",
       "      <td>0</td>\n",
       "      <td>0</td>\n",
       "      <td>1</td>\n",
       "      <td>2</td>\n",
       "      <td>0</td>\n",
       "      <td>Polisi di Meksiko Temukan 44 Mayat yang Dimuti...</td>\n",
       "      <td>0</td>\n",
       "    </tr>\n",
       "  </tbody>\n",
       "</table>\n",
       "</div>"
      ],
      "text/plain": [
       "   Unnamed: 0.1  Unnamed: 0  \\\n",
       "0           101         101   \n",
       "1          8448        8448   \n",
       "2          7372        7372   \n",
       "3          5720        5720   \n",
       "4          6806        6806   \n",
       "\n",
       "                                               title             category  \\\n",
       "0  guru tinggi muhammadiyah indonesia tolak revis...     Berita_indonesia   \n",
       "1  tiga bulan nikah onadio ronaldo karunia anak p...  Hiburan_&_Selebriti   \n",
       "2  sosok sukanto tanoto yang bakal buat ada lahan...     Berita_indonesia   \n",
       "3                 anggota dprd provinsi sumut lantik    Regional_&_Daerah   \n",
       "4         polisi di meksiko temu mayat yang mutilasi     Berita_indonesia   \n",
       "\n",
       "   has_exclamation  has_question  has_number  num_count  mark_count  \\\n",
       "0                0             0           1          2           0   \n",
       "1                0             0           0          0           1   \n",
       "2                0             0           0          0           1   \n",
       "3                0             0           1          3           0   \n",
       "4                0             0           1          2           0   \n",
       "\n",
       "                                      original_title  label_score  \n",
       "0  40 Perguruan Tinggi Muhammadiyah se-Indonesia ...            0  \n",
       "1  Tiga Bulan Nikah, Onadio Ronaldo Dikaruniai An...            1  \n",
       "2  Sosok Sukanto Tanoto yang Bakal Buat Pengadaan...            1  \n",
       "3           100 Anggota DPRD Provinsi Sumut Dilantik            0  \n",
       "4  Polisi di Meksiko Temukan 44 Mayat yang Dimuti...            0  "
      ]
     },
     "execution_count": 2,
     "metadata": {},
     "output_type": "execute_result"
    }
   ],
   "source": [
    "data = pd.read_csv(\"train 8k latest.csv\")\n",
    "# data = data.drop(['Unnamed: 0', 'label_score_x', 'label', 'sub-category', 'original_title', 'category', 'sub-category-original', 'original_content', \"has_exclamation\",\t\"has_question\",\t'has_number',\t'mark_count',\t'total_character'], axis=1)\n",
    "# data = data.rename(columns={\"label_score_y\":\"label\"})\n",
    "data = data.dropna()\n",
    "data.head()"
   ]
  },
  {
   "cell_type": "code",
   "execution_count": 3,
   "metadata": {},
   "outputs": [],
   "source": [
    "ori = data\n",
    "delete = data\n",
    "insert = data\n",
    "substitute = data\n",
    "swap = data"
   ]
  },
  {
   "cell_type": "code",
   "execution_count": 5,
   "metadata": {},
   "outputs": [],
   "source": [
    "import nlpaug.augmenter.word as naw"
   ]
  },
  {
   "cell_type": "code",
   "execution_count": 8,
   "metadata": {},
   "outputs": [],
   "source": [
    "# Create the augmentation object\n",
    "aug = naw.RandomWordAug(action=\"delete\")\n",
    "delete[\"title\"] = delete[\"title\"].apply(lambda x: ' '.join(aug.augment(x)))"
   ]
  },
  {
   "cell_type": "code",
   "execution_count": 9,
   "metadata": {},
   "outputs": [],
   "source": [
    "# Create the augmentation object\n",
    "import torch\n",
    "device = \"cuda\" if torch.cuda.is_available() else \"cpu\"\n",
    "aug = naw.ContextualWordEmbsAug(model_path='indobenchmark/indobert-base-p1', action=\"insert\", device=device)\n",
    "insert[\"title\"] = insert[\"title\"].apply(lambda x: ' '.join(aug.augment(x)))"
   ]
  },
  {
   "cell_type": "code",
   "execution_count": 10,
   "metadata": {},
   "outputs": [],
   "source": [
    "# Create the augmentation object\n",
    "aug = naw.RandomWordAug(action=\"substitute\")\n",
    "substitute[\"title\"] = substitute[\"title\"].apply(lambda x: ' '.join(aug.augment(x)))"
   ]
  },
  {
   "cell_type": "code",
   "execution_count": 11,
   "metadata": {},
   "outputs": [],
   "source": [
    "# Create the augmentation object\n",
    "aug = naw.RandomWordAug(action=\"swap\")\n",
    "swap[\"title\"] = swap[\"title\"].apply(lambda x: ' '.join(aug.augment(x)))"
   ]
  },
  {
   "cell_type": "code",
   "execution_count": 12,
   "metadata": {},
   "outputs": [
    {
     "data": {
      "text/plain": [
       "(29935, 11)"
      ]
     },
     "execution_count": 12,
     "metadata": {},
     "output_type": "execute_result"
    }
   ],
   "source": [
    "df = pd.concat([ori, delete, insert, substitute, swap])\n",
    "df.shape"
   ]
  },
  {
   "cell_type": "code",
   "execution_count": 13,
   "metadata": {},
   "outputs": [],
   "source": [
    "# df.to_csv('ori+delete+insert+substitute+swap.csv', index=False)"
   ]
  },
  {
   "cell_type": "code",
   "execution_count": null,
   "metadata": {},
   "outputs": [],
   "source": []
  }
 ],
 "metadata": {
  "kernelspec": {
   "display_name": "Python 3",
   "language": "python",
   "name": "python3"
  },
  "language_info": {
   "codemirror_mode": {
    "name": "ipython",
    "version": 3
   },
   "file_extension": ".py",
   "mimetype": "text/x-python",
   "name": "python",
   "nbconvert_exporter": "python",
   "pygments_lexer": "ipython3",
   "version": "3.10.5"
  },
  "orig_nbformat": 4
 },
 "nbformat": 4,
 "nbformat_minor": 2
}
