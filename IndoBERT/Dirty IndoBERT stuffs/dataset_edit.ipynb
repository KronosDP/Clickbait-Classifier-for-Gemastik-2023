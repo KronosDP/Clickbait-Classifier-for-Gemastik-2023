{
 "cells": [
  {
   "cell_type": "code",
   "execution_count": 1,
   "metadata": {},
   "outputs": [],
   "source": [
    "import pandas as pd"
   ]
  },
  {
   "cell_type": "code",
   "execution_count": 22,
   "metadata": {},
   "outputs": [],
   "source": [
    "merged = pd.read_csv('merged.csv')\n",
    "new = pd.read_csv('https://raw.githubusercontent.com/ruzcmc/ClickbaitIndo-textclassifier/master/primary-dataset.csv')"
   ]
  },
  {
   "cell_type": "code",
   "execution_count": 23,
   "metadata": {},
   "outputs": [],
   "source": [
    "dataset = pd.read_csv('dataset.csv', delimiter=\";\")"
   ]
  },
  {
   "cell_type": "code",
   "execution_count": 25,
   "metadata": {},
   "outputs": [
    {
     "data": {
      "text/html": [
       "<div>\n",
       "<style scoped>\n",
       "    .dataframe tbody tr th:only-of-type {\n",
       "        vertical-align: middle;\n",
       "    }\n",
       "\n",
       "    .dataframe tbody tr th {\n",
       "        vertical-align: top;\n",
       "    }\n",
       "\n",
       "    .dataframe thead th {\n",
       "        text-align: right;\n",
       "    }\n",
       "</style>\n",
       "<table border=\"1\" class=\"dataframe\">\n",
       "  <thead>\n",
       "    <tr style=\"text-align: right;\">\n",
       "      <th></th>\n",
       "      <th>title</th>\n",
       "      <th>label_score</th>\n",
       "    </tr>\n",
       "  </thead>\n",
       "  <tbody>\n",
       "    <tr>\n",
       "      <th>0</th>\n",
       "      <td>Masuk Radar Pilwalkot Medan, Menantu Jokowi Be...</td>\n",
       "      <td>0</td>\n",
       "    </tr>\n",
       "    <tr>\n",
       "      <th>1</th>\n",
       "      <td>Malaysia Sudutkan RI: Isu Kabut Asap hingga In...</td>\n",
       "      <td>0</td>\n",
       "    </tr>\n",
       "    <tr>\n",
       "      <th>2</th>\n",
       "      <td>Viral! Driver Ojol di Bekasi Antar Pesanan Mak...</td>\n",
       "      <td>1</td>\n",
       "    </tr>\n",
       "    <tr>\n",
       "      <th>3</th>\n",
       "      <td>Kemensos Salurkan Rp 7,3 M bagi Korban Kerusuh...</td>\n",
       "      <td>0</td>\n",
       "    </tr>\n",
       "    <tr>\n",
       "      <th>4</th>\n",
       "      <td>Terkait Mayat Bayi Mengenaskan di Tangerang, S...</td>\n",
       "      <td>0</td>\n",
       "    </tr>\n",
       "  </tbody>\n",
       "</table>\n",
       "</div>"
      ],
      "text/plain": [
       "                                               title  label_score\n",
       "0  Masuk Radar Pilwalkot Medan, Menantu Jokowi Be...            0\n",
       "1  Malaysia Sudutkan RI: Isu Kabut Asap hingga In...            0\n",
       "2  Viral! Driver Ojol di Bekasi Antar Pesanan Mak...            1\n",
       "3  Kemensos Salurkan Rp 7,3 M bagi Korban Kerusuh...            0\n",
       "4  Terkait Mayat Bayi Mengenaskan di Tangerang, S...            0"
      ]
     },
     "execution_count": 25,
     "metadata": {},
     "output_type": "execute_result"
    }
   ],
   "source": [
    "merged = merged.drop(['source', 'source', 'date', 'time', 'category', 'content', 'url', 'label'], axis=1)\n",
    "merged.head()"
   ]
  },
  {
   "cell_type": "code",
   "execution_count": 27,
   "metadata": {},
   "outputs": [
    {
     "data": {
      "text/html": [
       "<div>\n",
       "<style scoped>\n",
       "    .dataframe tbody tr th:only-of-type {\n",
       "        vertical-align: middle;\n",
       "    }\n",
       "\n",
       "    .dataframe tbody tr th {\n",
       "        vertical-align: top;\n",
       "    }\n",
       "\n",
       "    .dataframe thead th {\n",
       "        text-align: right;\n",
       "    }\n",
       "</style>\n",
       "<table border=\"1\" class=\"dataframe\">\n",
       "  <thead>\n",
       "    <tr style=\"text-align: right;\">\n",
       "      <th></th>\n",
       "      <th>title</th>\n",
       "      <th>label_score</th>\n",
       "    </tr>\n",
       "  </thead>\n",
       "  <tbody>\n",
       "    <tr>\n",
       "      <th>0</th>\n",
       "      <td>Purnomo Serahkan Surat Mundur dari Pilkada  ke...</td>\n",
       "      <td>0</td>\n",
       "    </tr>\n",
       "    <tr>\n",
       "      <th>1</th>\n",
       "      <td>Pemkot Bekasi Teken Aturan Tempat Hiburan Menu...</td>\n",
       "      <td>0</td>\n",
       "    </tr>\n",
       "    <tr>\n",
       "      <th>2</th>\n",
       "      <td>New Normal 5 Juni, ASN Tak Mesti Berbondong-bo...</td>\n",
       "      <td>0</td>\n",
       "    </tr>\n",
       "    <tr>\n",
       "      <th>3</th>\n",
       "      <td>WHO Waspadai Banyak Kematian di Puncak Kedua P...</td>\n",
       "      <td>0</td>\n",
       "    </tr>\n",
       "    <tr>\n",
       "      <th>4</th>\n",
       "      <td>VIDEO: Trump Ancam Tutup Twitter</td>\n",
       "      <td>1</td>\n",
       "    </tr>\n",
       "  </tbody>\n",
       "</table>\n",
       "</div>"
      ],
      "text/plain": [
       "                                               title  label_score\n",
       "0  Purnomo Serahkan Surat Mundur dari Pilkada  ke...            0\n",
       "1  Pemkot Bekasi Teken Aturan Tempat Hiburan Menu...            0\n",
       "2  New Normal 5 Juni, ASN Tak Mesti Berbondong-bo...            0\n",
       "3  WHO Waspadai Banyak Kematian di Puncak Kedua P...            0\n",
       "4                   VIDEO: Trump Ancam Tutup Twitter            1"
      ]
     },
     "execution_count": 27,
     "metadata": {},
     "output_type": "execute_result"
    }
   ],
   "source": [
    "new = new.rename(columns={\"text\":\"title\",\n",
    "                          \"label\":\"label_score\"})\n",
    "new.head()"
   ]
  },
  {
   "cell_type": "code",
   "execution_count": 34,
   "metadata": {},
   "outputs": [
    {
     "data": {
      "text/html": [
       "<div>\n",
       "<style scoped>\n",
       "    .dataframe tbody tr th:only-of-type {\n",
       "        vertical-align: middle;\n",
       "    }\n",
       "\n",
       "    .dataframe tbody tr th {\n",
       "        vertical-align: top;\n",
       "    }\n",
       "\n",
       "    .dataframe thead th {\n",
       "        text-align: right;\n",
       "    }\n",
       "</style>\n",
       "<table border=\"1\" class=\"dataframe\">\n",
       "  <thead>\n",
       "    <tr style=\"text-align: right;\">\n",
       "      <th></th>\n",
       "      <th>title</th>\n",
       "      <th>label_score</th>\n",
       "    </tr>\n",
       "  </thead>\n",
       "  <tbody>\n",
       "    <tr>\n",
       "      <th>0</th>\n",
       "      <td>Korban Banjir Jati Asih Dapat Bantuan Baju hin...</td>\n",
       "      <td>0.0</td>\n",
       "    </tr>\n",
       "    <tr>\n",
       "      <th>1</th>\n",
       "      <td>Jokowi Akan Habiskan Malam Tahun Baru Bareng K...</td>\n",
       "      <td>0.0</td>\n",
       "    </tr>\n",
       "    <tr>\n",
       "      <th>2</th>\n",
       "      <td>Nias Diguncang Gempa Berkekuatan 5,2 Magnitudo...</td>\n",
       "      <td>0.0</td>\n",
       "    </tr>\n",
       "    <tr>\n",
       "      <th>3</th>\n",
       "      <td>Pemprov DKI Tak Akan Beri Izin DWP Digelar Tah...</td>\n",
       "      <td>0.0</td>\n",
       "    </tr>\n",
       "    <tr>\n",
       "      <th>4</th>\n",
       "      <td>Jurus Edhy Berantas Pencuri Ikan: Tahun 2020, ...</td>\n",
       "      <td>0.0</td>\n",
       "    </tr>\n",
       "  </tbody>\n",
       "</table>\n",
       "</div>"
      ],
      "text/plain": [
       "                                               title  label_score\n",
       "0  Korban Banjir Jati Asih Dapat Bantuan Baju hin...          0.0\n",
       "1  Jokowi Akan Habiskan Malam Tahun Baru Bareng K...          0.0\n",
       "2  Nias Diguncang Gempa Berkekuatan 5,2 Magnitudo...          0.0\n",
       "3  Pemprov DKI Tak Akan Beri Izin DWP Digelar Tah...          0.0\n",
       "4  Jurus Edhy Berantas Pencuri Ikan: Tahun 2020, ...          0.0"
      ]
     },
     "execution_count": 34,
     "metadata": {},
     "output_type": "execute_result"
    }
   ],
   "source": [
    "dataset = dataset.dropna(axis=0)\n",
    "dataset = dataset.drop(['link', 'tahun'], axis=1)\n",
    "dataset.head()"
   ]
  },
  {
   "cell_type": "code",
   "execution_count": 35,
   "metadata": {},
   "outputs": [
    {
     "name": "stdout",
     "output_type": "stream",
     "text": [
      "(18054, 2)\n"
     ]
    },
    {
     "data": {
      "text/html": [
       "<div>\n",
       "<style scoped>\n",
       "    .dataframe tbody tr th:only-of-type {\n",
       "        vertical-align: middle;\n",
       "    }\n",
       "\n",
       "    .dataframe tbody tr th {\n",
       "        vertical-align: top;\n",
       "    }\n",
       "\n",
       "    .dataframe thead th {\n",
       "        text-align: right;\n",
       "    }\n",
       "</style>\n",
       "<table border=\"1\" class=\"dataframe\">\n",
       "  <thead>\n",
       "    <tr style=\"text-align: right;\">\n",
       "      <th></th>\n",
       "      <th>title</th>\n",
       "      <th>label_score</th>\n",
       "    </tr>\n",
       "  </thead>\n",
       "  <tbody>\n",
       "    <tr>\n",
       "      <th>0</th>\n",
       "      <td>Masuk Radar Pilwalkot Medan, Menantu Jokowi Be...</td>\n",
       "      <td>0.0</td>\n",
       "    </tr>\n",
       "    <tr>\n",
       "      <th>1</th>\n",
       "      <td>Malaysia Sudutkan RI: Isu Kabut Asap hingga In...</td>\n",
       "      <td>0.0</td>\n",
       "    </tr>\n",
       "    <tr>\n",
       "      <th>2</th>\n",
       "      <td>Viral! Driver Ojol di Bekasi Antar Pesanan Mak...</td>\n",
       "      <td>1.0</td>\n",
       "    </tr>\n",
       "    <tr>\n",
       "      <th>3</th>\n",
       "      <td>Kemensos Salurkan Rp 7,3 M bagi Korban Kerusuh...</td>\n",
       "      <td>0.0</td>\n",
       "    </tr>\n",
       "    <tr>\n",
       "      <th>4</th>\n",
       "      <td>Terkait Mayat Bayi Mengenaskan di Tangerang, S...</td>\n",
       "      <td>0.0</td>\n",
       "    </tr>\n",
       "    <tr>\n",
       "      <th>...</th>\n",
       "      <td>...</td>\n",
       "      <td>...</td>\n",
       "    </tr>\n",
       "    <tr>\n",
       "      <th>55</th>\n",
       "      <td>Gigih Berakting Meninggal selama 321 Hari, Pri...</td>\n",
       "      <td>1.0</td>\n",
       "    </tr>\n",
       "    <tr>\n",
       "      <th>56</th>\n",
       "      <td>8 Zodiak Paling Beruntung Hari Ini Jumat 7 Jun...</td>\n",
       "      <td>1.0</td>\n",
       "    </tr>\n",
       "    <tr>\n",
       "      <th>57</th>\n",
       "      <td>Daftar Presiden Indonesia yang Lahir Bulan Jun...</td>\n",
       "      <td>1.0</td>\n",
       "    </tr>\n",
       "    <tr>\n",
       "      <th>58</th>\n",
       "      <td>Pegawai Dapat Fasilitas Tempat Tinggal di Atas...</td>\n",
       "      <td>0.0</td>\n",
       "    </tr>\n",
       "    <tr>\n",
       "      <th>59</th>\n",
       "      <td>KPK Ungkap Korban Pungli Rp 4 M di Rutan Capai...</td>\n",
       "      <td>0.0</td>\n",
       "    </tr>\n",
       "  </tbody>\n",
       "</table>\n",
       "<p>18054 rows × 2 columns</p>\n",
       "</div>"
      ],
      "text/plain": [
       "                                                title  label_score\n",
       "0   Masuk Radar Pilwalkot Medan, Menantu Jokowi Be...          0.0\n",
       "1   Malaysia Sudutkan RI: Isu Kabut Asap hingga In...          0.0\n",
       "2   Viral! Driver Ojol di Bekasi Antar Pesanan Mak...          1.0\n",
       "3   Kemensos Salurkan Rp 7,3 M bagi Korban Kerusuh...          0.0\n",
       "4   Terkait Mayat Bayi Mengenaskan di Tangerang, S...          0.0\n",
       "..                                                ...          ...\n",
       "55  Gigih Berakting Meninggal selama 321 Hari, Pri...          1.0\n",
       "56  8 Zodiak Paling Beruntung Hari Ini Jumat 7 Jun...          1.0\n",
       "57  Daftar Presiden Indonesia yang Lahir Bulan Jun...          1.0\n",
       "58  Pegawai Dapat Fasilitas Tempat Tinggal di Atas...          0.0\n",
       "59  KPK Ungkap Korban Pungli Rp 4 M di Rutan Capai...          0.0\n",
       "\n",
       "[18054 rows x 2 columns]"
      ]
     },
     "execution_count": 35,
     "metadata": {},
     "output_type": "execute_result"
    }
   ],
   "source": [
    "df = pd.concat([merged, new, dataset])\n",
    "print(df.shape)\n",
    "df"
   ]
  },
  {
   "cell_type": "code",
   "execution_count": 36,
   "metadata": {},
   "outputs": [],
   "source": [
    "# df.to_csv('18k_not_augmented.csv', index=False)"
   ]
  },
  {
   "cell_type": "code",
   "execution_count": 37,
   "metadata": {},
   "outputs": [],
   "source": [
    "import nlpaug.augmenter.word as naw"
   ]
  },
  {
   "cell_type": "code",
   "execution_count": 38,
   "metadata": {},
   "outputs": [],
   "source": [
    "tes = df.head()"
   ]
  },
  {
   "cell_type": "code",
   "execution_count": 40,
   "metadata": {},
   "outputs": [
    {
     "name": "stderr",
     "output_type": "stream",
     "text": [
      "C:\\Users\\ASUS\\AppData\\Local\\Temp\\ipykernel_13640\\2974082387.py:3: SettingWithCopyWarning: \n",
      "A value is trying to be set on a copy of a slice from a DataFrame.\n",
      "Try using .loc[row_indexer,col_indexer] = value instead\n",
      "\n",
      "See the caveats in the documentation: https://pandas.pydata.org/pandas-docs/stable/user_guide/indexing.html#returning-a-view-versus-a-copy\n",
      "  tes[\"title\"] = tes[\"title\"].apply(lambda x: ' '.join(aug.augment(x)))\n"
     ]
    }
   ],
   "source": [
    "# Create the augmentation object\n",
    "aug = naw.RandomWordAug(action=\"swap\")\n",
    "tes[\"title\"] = tes[\"title\"].apply(lambda x: ' '.join(aug.augment(x)))"
   ]
  },
  {
   "cell_type": "code",
   "execution_count": 43,
   "metadata": {},
   "outputs": [],
   "source": [
    "# Create the augmentation object\n",
    "aug = naw.RandomWordAug(action=\"swap\")\n",
    "df[\"title\"] = df[\"title\"].apply(lambda x: ' '.join(aug.augment(x)))"
   ]
  },
  {
   "cell_type": "code",
   "execution_count": 48,
   "metadata": {},
   "outputs": [
    {
     "data": {
      "text/html": [
       "<div>\n",
       "<style scoped>\n",
       "    .dataframe tbody tr th:only-of-type {\n",
       "        vertical-align: middle;\n",
       "    }\n",
       "\n",
       "    .dataframe tbody tr th {\n",
       "        vertical-align: top;\n",
       "    }\n",
       "\n",
       "    .dataframe thead th {\n",
       "        text-align: right;\n",
       "    }\n",
       "</style>\n",
       "<table border=\"1\" class=\"dataframe\">\n",
       "  <thead>\n",
       "    <tr style=\"text-align: right;\">\n",
       "      <th></th>\n",
       "      <th>title</th>\n",
       "      <th>label_score</th>\n",
       "    </tr>\n",
       "  </thead>\n",
       "  <tbody>\n",
       "    <tr>\n",
       "      <th>50</th>\n",
       "      <td>Disebut oleh Kejam Rusli Inara, Manurung Eva B...</td>\n",
       "      <td>1.0</td>\n",
       "    </tr>\n",
       "    <tr>\n",
       "      <th>51</th>\n",
       "      <td>Spears britney Ditampar Sekuriti NBA Bintang s...</td>\n",
       "      <td>1.0</td>\n",
       "    </tr>\n",
       "    <tr>\n",
       "      <th>52</th>\n",
       "      <td>Banjir Hujatan Jelang Dinikahi Denny Caknan, B...</td>\n",
       "      <td>1.0</td>\n",
       "    </tr>\n",
       "    <tr>\n",
       "      <th>53</th>\n",
       "      <td>Viral Nenek Dituduh Curi 20 Milik Kelapa Buah ...</td>\n",
       "      <td>1.0</td>\n",
       "    </tr>\n",
       "    <tr>\n",
       "      <th>54</th>\n",
       "      <td>ART susi Ferdy Sambo Mendadak Viral Lagi, Meng...</td>\n",
       "      <td>1.0</td>\n",
       "    </tr>\n",
       "    <tr>\n",
       "      <th>55</th>\n",
       "      <td>Meninggal gigih Berakting selama 321 Hari, Ini...</td>\n",
       "      <td>1.0</td>\n",
       "    </tr>\n",
       "    <tr>\n",
       "      <th>56</th>\n",
       "      <td>8 zodiak Beruntung Paling Ini Hari Jumat Juni ...</td>\n",
       "      <td>1.0</td>\n",
       "    </tr>\n",
       "    <tr>\n",
       "      <th>57</th>\n",
       "      <td>Presiden daftar Indonesia yang Lahir Juni, Bul...</td>\n",
       "      <td>1.0</td>\n",
       "    </tr>\n",
       "    <tr>\n",
       "      <th>58</th>\n",
       "      <td>Pegawai Fasilitas Tempat Dapat di Atas Tinggal...</td>\n",
       "      <td>0.0</td>\n",
       "    </tr>\n",
       "    <tr>\n",
       "      <th>59</th>\n",
       "      <td>Ungkap Korban KPK Pungli Rp 4 M di Capai Rutan...</td>\n",
       "      <td>0.0</td>\n",
       "    </tr>\n",
       "  </tbody>\n",
       "</table>\n",
       "</div>"
      ],
      "text/plain": [
       "                                                title  label_score\n",
       "50  Disebut oleh Kejam Rusli Inara, Manurung Eva B...          1.0\n",
       "51  Spears britney Ditampar Sekuriti NBA Bintang s...          1.0\n",
       "52  Banjir Hujatan Jelang Dinikahi Denny Caknan, B...          1.0\n",
       "53  Viral Nenek Dituduh Curi 20 Milik Kelapa Buah ...          1.0\n",
       "54  ART susi Ferdy Sambo Mendadak Viral Lagi, Meng...          1.0\n",
       "55  Meninggal gigih Berakting selama 321 Hari, Ini...          1.0\n",
       "56  8 zodiak Beruntung Paling Ini Hari Jumat Juni ...          1.0\n",
       "57  Presiden daftar Indonesia yang Lahir Juni, Bul...          1.0\n",
       "58  Pegawai Fasilitas Tempat Dapat di Atas Tinggal...          0.0\n",
       "59  Ungkap Korban KPK Pungli Rp 4 M di Capai Rutan...          0.0"
      ]
     },
     "execution_count": 48,
     "metadata": {},
     "output_type": "execute_result"
    }
   ],
   "source": [
    "df.tail(10)"
   ]
  },
  {
   "cell_type": "code",
   "execution_count": 49,
   "metadata": {},
   "outputs": [],
   "source": [
    "# df.to_csv('18k_augmented.csv', index=False)"
   ]
  },
  {
   "cell_type": "code",
   "execution_count": null,
   "metadata": {},
   "outputs": [],
   "source": []
  }
 ],
 "metadata": {
  "kernelspec": {
   "display_name": "Python 3",
   "language": "python",
   "name": "python3"
  },
  "language_info": {
   "codemirror_mode": {
    "name": "ipython",
    "version": 3
   },
   "file_extension": ".py",
   "mimetype": "text/x-python",
   "name": "python",
   "nbconvert_exporter": "python",
   "pygments_lexer": "ipython3",
   "version": "3.10.5"
  },
  "orig_nbformat": 4
 },
 "nbformat": 4,
 "nbformat_minor": 2
}
